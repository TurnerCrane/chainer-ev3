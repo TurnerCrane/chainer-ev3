{
 "cells": [
  {
   "cell_type": "code",
   "execution_count": 1,
   "metadata": {},
   "outputs": [],
   "source": [
    "from lib.ev3 import EV3\n",
    "\n",
    "\n",
    "# EV3のLCDに文字列を表示する.\n",
    "ev3 = EV3()\n",
    "ev3.lcd_draw_string('Hello, EV3!', 0)\n",
    "ev3.lcd_draw_string('Hello, Chainer!', 1)\n",
    "ev3.lcd_draw_string('1234567890', 2)\n",
    "ev3.lcd_clear_line(2)\n",
    "\n",
    "# 終了処理.\n",
    "ev3.close()"
   ]
  },
  {
   "cell_type": "code",
   "execution_count": null,
   "metadata": {},
   "outputs": [],
   "source": []
  }
 ],
 "metadata": {
  "kernelspec": {
   "display_name": "Python 3",
   "language": "python",
   "name": "python3"
  },
  "language_info": {
   "codemirror_mode": {
    "name": "ipython",
    "version": 3
   },
   "file_extension": ".py",
   "mimetype": "text/x-python",
   "name": "python",
   "nbconvert_exporter": "python",
   "pygments_lexer": "ipython3",
   "version": "3.6.8"
  }
 },
 "nbformat": 4,
 "nbformat_minor": 2
}
