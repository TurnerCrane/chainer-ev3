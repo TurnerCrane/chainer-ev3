{
 "cells": [
  {
   "cell_type": "code",
   "execution_count": 4,
   "metadata": {},
   "outputs": [],
   "source": [
    "import time\n",
    "from lib.ev3 import EV3\n",
    "\n",
    "\n",
    "# センサーとモーターの通信ポートの定義.\n",
    "touch_port = EV3.PORT_2\n",
    "color_port = EV3.PORT_3\n",
    "lmotor_port = EV3.PORT_B\n",
    "rmotor_port = EV3.PORT_C\n",
    "\n",
    "# センサーとモーターの設定.\n",
    "ev3 = EV3()\n",
    "ev3.motor_config(lmotor_port, EV3.LARGE_MOTOR)\n",
    "ev3.motor_config(rmotor_port, EV3.LARGE_MOTOR)\n",
    "ev3.sensor_config(touch_port, EV3.TOUCH_SENSOR)\n",
    "ev3.sensor_config(color_port, EV3.COLOR_SENSOR)\n",
    "\n",
    "# タッチセンサーを押して離すとスタート.\n",
    "ev3.lcd_draw_string('Push to start.', 0)\n",
    "while not ev3.touch_sensor_is_pressed(touch_port):\n",
    "    pass\n",
    "while ev3.touch_sensor_is_pressed(touch_port):\n",
    "    pass\n",
    "\n",
    "ev3.lcd_draw_string('Go!', 0)\n",
    "\n",
    "# 制御ループ\n",
    "while True:\n",
    "    # タッチセンサーが押されたら終了.\n",
    "    if ev3.touch_sensor_is_pressed(touch_port):\n",
    "        break\n",
    "    # P制御でステアリング値を計算.\n",
    "    white = 70  # 白面上の反射値.\n",
    "    black = 5   # 黒面上の反射値.\n",
    "    midpoint = (white + black) / 2  # 平均値を計算.\n",
    "    color = ev3.color_sensor_get_reflect(color_port)\n",
    "    steer = 0.8 * (color - midpoint)  # p * (測定値 - 平均値)\n",
    "    # EV3へ制御値を送信.\n",
    "    ev3.motor_steer(lmotor_port, rmotor_port, 10, int(steer))\n",
    "\n",
    "# モーターの停止.\n",
    "ev3.lcd_draw_string('Stop.', 0)\n",
    "ev3.motor_steer(lmotor_port, rmotor_port, 0, 0)\n",
    "# 終了処理.\n",
    "ev3.close()"
   ]
  },
  {
   "cell_type": "code",
   "execution_count": null,
   "metadata": {},
   "outputs": [],
   "source": []
  }
 ],
 "metadata": {
  "kernelspec": {
   "display_name": "Python 3",
   "language": "python",
   "name": "python3"
  },
  "language_info": {
   "codemirror_mode": {
    "name": "ipython",
    "version": 3
   },
   "file_extension": ".py",
   "mimetype": "text/x-python",
   "name": "python",
   "nbconvert_exporter": "python",
   "pygments_lexer": "ipython3",
   "version": "3.6.8"
  }
 },
 "nbformat": 4,
 "nbformat_minor": 2
}
