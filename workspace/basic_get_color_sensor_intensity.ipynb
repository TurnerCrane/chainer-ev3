{
 "cells": [
  {
   "cell_type": "code",
   "execution_count": 1,
   "metadata": {
    "scrolled": true
   },
   "outputs": [
    {
     "name": "stdout",
     "output_type": "stream",
     "text": [
      "Reflection value = 72\n",
      "Reflection value = 72\n",
      "Reflection value = 51\n",
      "Reflection value = 74\n",
      "Reflection value = 1\n",
      "Reflection value = 4\n",
      "Reflection value = 27\n",
      "Reflection value = 70\n",
      "Reflection value = 69\n",
      "Reflection value = 69\n",
      "Reflection value = 69\n",
      "Reflection value = 69\n",
      "Reflection value = 69\n",
      "Reflection value = 69\n",
      "Reflection value = 69\n"
     ]
    }
   ],
   "source": [
    "import time\n",
    "from lib.ev3 import EV3\n",
    "\n",
    "\n",
    "# センサーとモーターの通信ポートの定義\n",
    "color_port = EV3.PORT_3\n",
    "\n",
    "# センサーの初期設定\n",
    "ev3 = EV3()\n",
    "ev3.sensor_config(color_port, EV3.COLOR_SENSOR)\n",
    "\n",
    "# 15回、カラーセンサーの反射値を取得して表示.\n",
    "for _ in range(15):\n",
    "    val = ev3.color_sensor_get_reflect(color_port)\n",
    "    print(\"Reflection value = {}\".format(val))\n",
    "    time.sleep(1)\n",
    "\n",
    "# 終了処理\n",
    "ev3.close()"
   ]
  },
  {
   "cell_type": "code",
   "execution_count": null,
   "metadata": {},
   "outputs": [],
   "source": []
  }
 ],
 "metadata": {
  "kernelspec": {
   "display_name": "Python 3",
   "language": "python",
   "name": "python3"
  },
  "language_info": {
   "codemirror_mode": {
    "name": "ipython",
    "version": 3
   },
   "file_extension": ".py",
   "mimetype": "text/x-python",
   "name": "python",
   "nbconvert_exporter": "python",
   "pygments_lexer": "ipython3",
   "version": "3.6.8"
  }
 },
 "nbformat": 4,
 "nbformat_minor": 2
}
