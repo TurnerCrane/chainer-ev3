{
 "cells": [
  {
   "cell_type": "code",
   "execution_count": null,
   "metadata": {},
   "outputs": [],
   "source": [
    "import time\n",
    "from lib.ev3 import EV3\n",
    "\n",
    "# モーターとセンサーの通信ポートの定義.\n",
    "touch_port = EV3.PORT_2\n",
    "color_port = EV3.PORT_3\n",
    "\n",
    "# モーターとセンサーの初期設定.\n",
    "ev3 = EV3()\n",
    "ev3.sensor_config(touch_port, EV3.TOUCH_SENSOR)\n",
    "ev3.sensor_config(color_port, EV3.COLOR_SENSOR)\n",
    "\n",
    "time.sleep(0.5)\n",
    "\n",
    "# タッチセンサーが押されたら発進.\n",
    "print(\"Push touch sensor to run your EV3.\")\n",
    "while not ev3.touch_sensor_is_pressed(touch_port):\n",
    "    pass\n",
    "for _ in range(30):\n",
    "    rgb = ev3.color_sensor_get_rgb_raw(color_port)\n",
    "    print(\"R: {}, G: {}, B: {}\".format(rgb[0], rgb[1], rgb[2]))\n",
    "    time.sleep(0.5)\n",
    "\n",
    "# 終了処理.\n",
    "ev3.close()"
   ]
  },
  {
   "cell_type": "code",
   "execution_count": null,
   "metadata": {},
   "outputs": [],
   "source": []
  }
 ],
 "metadata": {
  "kernelspec": {
   "display_name": "Python 3",
   "language": "python",
   "name": "python3"
  },
  "language_info": {
   "codemirror_mode": {
    "name": "ipython",
    "version": 3
   },
   "file_extension": ".py",
   "mimetype": "text/x-python",
   "name": "python",
   "nbconvert_exporter": "python",
   "pygments_lexer": "ipython3",
   "version": "3.6.8"
  }
 },
 "nbformat": 4,
 "nbformat_minor": 2
}
