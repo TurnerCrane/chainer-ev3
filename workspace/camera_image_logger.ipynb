{
 "cells": [
  {
   "cell_type": "code",
   "execution_count": null,
   "metadata": {},
   "outputs": [],
   "source": [
    "import time\n",
    "from IPython.display import Image, display\n",
    "from lib.vstream import VideoStream\n",
    "from lib.logger import Logger\n",
    "\n",
    "# 'data'以下に画像を保存する.\n",
    "lg = Logger()\n",
    "\n",
    "# カメラを[解像度:(320, 240), FPS:10, 色:二値]で設定.\n",
    "vs = VideoStream((320, 240), 10, colormode='rgb').start()\n",
    "\n",
    "print('Start.')\n",
    "# １秒間に１枚の画像を保存・表示.\n",
    "while True:\n",
    "    image = vs.read()\n",
    "    lg.write(image)\n",
    "    image.save('test.png')\n",
    "    display(Image('test.png'))\n",
    "    time.sleep(1.)\n",
    "print('Stop.')\n",
    "\n",
    "# 終了処理.\n",
    "vs.stop()\n",
    "lg.close()"
   ]
  }
 ],
 "metadata": {
  "kernelspec": {
   "display_name": "Python 3",
   "language": "python",
   "name": "python3"
  },
  "language_info": {
   "codemirror_mode": {
    "name": "ipython",
    "version": 3
   },
   "file_extension": ".py",
   "mimetype": "text/x-python",
   "name": "python",
   "nbconvert_exporter": "python",
   "pygments_lexer": "ipython3",
   "version": "3.6.8"
  }
 },
 "nbformat": 4,
 "nbformat_minor": 2
}
