{
 "cells": [
  {
   "cell_type": "code",
   "execution_count": null,
   "metadata": {},
   "outputs": [],
   "source": [
    "import time\n",
    "from lib.ev3 import EV3\n",
    "\n",
    "\n",
    "# センサーとモーターの通信ポートの定義\n",
    "touch_port = EV3.PORT_2\n",
    "color_port = EV3.PORT_3\n",
    "lmotor_port = EV3.PORT_B\n",
    "rmotor_port = EV3.PORT_C\n",
    "\n",
    "# センサー・モーターの設定\n",
    "ev3 = EV3()\n",
    "ev3.motor_config(lmotor_port, EV3.LARGE_MOTOR)\n",
    "ev3.motor_config(rmotor_port, EV3.LARGE_MOTOR)\n",
    "ev3.sensor_config(touch_port, EV3.TOUCH_SENSOR)\n",
    "ev3.sensor_config(color_port, EV3.COLOR_SENSOR)\n",
    "\n",
    "print('Push touch sensor to run your EV3.')\n",
    "while not ev3.touch_sensor_is_pressed(touch_port):\n",
    "    pass\n",
    "\n",
    "# 速度30で直進する.\n",
    "ev3.motor_steer(lmotor_port, rmotor_port, 30, 0)\n",
    "print('Go!')\n",
    "while True:\n",
    "    color = ev3.color_sensor_get_reflect(color_port)\n",
    "    print('Color = {0}'.format(color))\n",
    "    # colorセンサーの値が50以下になったら停止する.\n",
    "    if color < 50:\n",
    "        break\n",
    "print('Stop!')\n",
    "ev3.motor_steer(lmotor_port, rmotor_port, 0, 0)\n",
    "ev3.close()"
   ]
  }
 ],
 "metadata": {
  "kernelspec": {
   "display_name": "Python 3",
   "language": "python",
   "name": "python3"
  },
  "language_info": {
   "codemirror_mode": {
    "name": "ipython",
    "version": 3
   },
   "file_extension": ".py",
   "mimetype": "text/x-python",
   "name": "python",
   "nbconvert_exporter": "python",
   "pygments_lexer": "ipython3",
   "version": "3.6.8"
  }
 },
 "nbformat": 4,
 "nbformat_minor": 2
}
