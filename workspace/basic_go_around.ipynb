{
 "cells": [
  {
   "cell_type": "code",
   "execution_count": null,
   "metadata": {},
   "outputs": [],
   "source": [
    "import time\n",
    "from lib.ev3 import EV3\n",
    "\n",
    "# センサーとモーターの通信ポートの定義.\n",
    "touch_port = EV3.PORT_2\n",
    "lmotor_port = EV3.PORT_B\n",
    "rmotor_port = EV3.PORT_C\n",
    "\n",
    "# センサーとモーターの初期設定.\n",
    "ev3 = EV3()\n",
    "ev3.motor_config(lmotor_port, EV3.LARGE_MOTOR)\n",
    "ev3.motor_config(rmotor_port, EV3.LARGE_MOTOR)\n",
    "ev3.sensor_config(touch_port, EV3.TOUCH_SENSOR)\n",
    "\n",
    "# タッチセンサーが押して離されるまで待つ.\n",
    "print(\"Push touch sensor to run your EV3.\")\n",
    "while not ev3.touch_sensor_is_pressed(touch_port):\n",
    "    pass\n",
    "while ev3.touch_sensor_is_pressed(touch_port):\n",
    "    pass\n",
    "\n",
    "# 速度30, ステアリング角30で発進.\n",
    "print(\"Go!\")\n",
    "ev3.motor_steer(lmotor_port, rmotor_port, 30, 30)\n",
    "\n",
    "# タッチセンサーが押されたら停止する.\n",
    "print(\"Push touch sensor to stop your EV3.\")\n",
    "while not ev3.touch_sensor_is_pressed(touch_port):\n",
    "    pass\n",
    "print(\"Stop.\")\n",
    "ev3.motor_steer(lmotor_port, rmotor_port, 0, 0)\n",
    "\n",
    "# 終了処理.\n",
    "ev3.close()\n"
   ]
  }
 ],
 "metadata": {
  "kernelspec": {
   "display_name": "Python 3",
   "language": "python",
   "name": "python3"
  },
  "language_info": {
   "codemirror_mode": {
    "name": "ipython",
    "version": 3
   },
   "file_extension": ".py",
   "mimetype": "text/x-python",
   "name": "python",
   "nbconvert_exporter": "python",
   "pygments_lexer": "ipython3",
   "version": "3.6.8"
  }
 },
 "nbformat": 4,
 "nbformat_minor": 2
}
