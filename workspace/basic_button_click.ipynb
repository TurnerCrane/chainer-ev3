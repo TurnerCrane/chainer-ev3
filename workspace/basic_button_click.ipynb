{
 "cells": [
  {
   "cell_type": "code",
   "execution_count": null,
   "metadata": {},
   "outputs": [],
   "source": [
    "import time\n",
    "from lib.ev3 import EV3\n",
    "\n",
    "ev3 = EV3()\n",
    "\n",
    "# EV3のボタンを検知するループ\n",
    "for _ in range(30):\n",
    "    if ev3.button_is_pressed(EV3.UP_BUTTON):\n",
    "        print(\"UP button is clicked.\")\n",
    "    if ev3.button_is_pressed(EV3.DOWN_BUTTON):\n",
    "        print(\"DOWN button is clicked.\")\n",
    "    if ev3.button_is_pressed(EV3.LEFT_BUTTON):\n",
    "        print(\"LEFT button is clicked.\")\n",
    "    if ev3.button_is_pressed(EV3.RIGHT_BUTTON):\n",
    "        print(\"RIGHT button is clicked.\")\n",
    "    if ev3.button_is_pressed(EV3.ENTER_BUTTON):\n",
    "        print(\"ENTER button is clicked.\")\n",
    "    time.sleep(0.5)\n",
    "\n",
    "# 終了処理\n",
    "ev3.close()"
   ]
  }
 ],
 "metadata": {
  "kernelspec": {
   "display_name": "Python 3",
   "language": "python",
   "name": "python3"
  },
  "language_info": {
   "codemirror_mode": {
    "name": "ipython",
    "version": 3
   },
   "file_extension": ".py",
   "mimetype": "text/x-python",
   "name": "python",
   "nbconvert_exporter": "python",
   "pygments_lexer": "ipython3",
   "version": "3.6.8"
  }
 },
 "nbformat": 4,
 "nbformat_minor": 2
}
