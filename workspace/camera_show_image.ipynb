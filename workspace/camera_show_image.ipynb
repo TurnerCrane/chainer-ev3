{
 "cells": [
  {
   "cell_type": "code",
   "execution_count": null,
   "metadata": {},
   "outputs": [],
   "source": [
    "import time\n",
    "from IPython.display import Image, display\n",
    "from lib.vstream import VideoStream\n",
    "from lib.ev3 import EV3\n",
    "\n",
    "\n",
    "# センサーの通信ポートの定義.\n",
    "touch_port = EV3.PORT_2\n",
    "\n",
    "# センサーの初期設定.\n",
    "ev3 = EV3()\n",
    "ev3.sensor_config(touch_port, EV3.TOUCH_SENSOR)\n",
    "\n",
    "# カメラを[解像度:(320, 240), FPS:10, 色:RGB]で設定.\n",
    "vs = VideoStream((320, 240), 10, colormode='rbg').start()\n",
    "\n",
    "# 30秒間、１秒毎に写真を１枚取得して表示する.\n",
    "print('Start.')\n",
    "for _ in range(30):\n",
    "    img = vs.read()\n",
    "    img.save('out.png')\n",
    "    display(Image('out.png'))\n",
    "    time.sleep(1.)\n",
    "print('Finish.')\n",
    "\n",
    "# 終了処理\n",
    "ev3.close()\n",
    "vs.stop()"
   ]
  }
 ],
 "metadata": {
  "kernelspec": {
   "display_name": "Python 3",
   "language": "python",
   "name": "python3"
  },
  "language_info": {
   "codemirror_mode": {
    "name": "ipython",
    "version": 3
   },
   "file_extension": ".py",
   "mimetype": "text/x-python",
   "name": "python",
   "nbconvert_exporter": "python",
   "pygments_lexer": "ipython3",
   "version": "3.6.8"
  }
 },
 "nbformat": 4,
 "nbformat_minor": 2
}
