{
 "cells": [
  {
   "cell_type": "code",
   "execution_count": null,
   "metadata": {},
   "outputs": [],
   "source": [
    "import numpy as np\n",
    "import chainer\n",
    "import chainer.links as L\n",
    "import chainer.functions as F\n",
    "\n",
    "\n",
    "class MyChain(chainer.Chain):\n",
    "    def __init__(self):\n",
    "        super(MyChain, self).__init__()\n",
    "        with self.init_scope():\n",
    "            self.l1 = L.Linear(1, 256) \n",
    "            self.l2 = L.Linear(256, 256)\n",
    "            self.l3 = L.Linear(256, 1) \n",
    "\n",
    "    def forward(self, x):\n",
    "        h1 = F.relu(self.l1(x))\n",
    "        h2 = F.relu(self.l2(h1))\n",
    "        return self.l3(h2)\n",
    "\n",
    "\n",
    "model_path = 'regression_model/mychain.model'\n",
    "\n",
    "# 訓練済みモデルの読み込み\n",
    "predictor = MyChain()\n",
    "chainer.serializers.load_npz(model_path, predictor)\n",
    "\n",
    "# 入力値の作成\n",
    "x = np.array(([0.0], [0.2], [0.4], [0.6], [0.8], [1.0], [1.2], [1.4], [1.6], [1.8], [2.0], [2.2], [2.4]), dtype=np.float32)\n",
    "# 推論の実行\n",
    "result = predictor(x)\n",
    "# 予測値の取り出し\n",
    "y = result.data\n",
    "# 予測値と比較するために目標値を作成\n",
    "t = x*x + 3*x + 1\n",
    "# 結果の表示\n",
    "for i in range(len(x)):\n",
    "    xi = x[i][0]\n",
    "    yi = y[i][0]\n",
    "    ti = t[i][0]\n",
    "    print(\"入力値 x: {0:6.3f}, 予測値 y: {1:6.3f}, 目標値 t: {2:6.3f}, 誤差 |y-t|: {3:6.3f}\".format(xi, yi, ti, abs(ti - yi)))"
   ]
  },
  {
   "cell_type": "code",
   "execution_count": null,
   "metadata": {},
   "outputs": [],
   "source": []
  }
 ],
 "metadata": {
  "kernelspec": {
   "display_name": "Python 3",
   "language": "python",
   "name": "python3"
  },
  "language_info": {
   "codemirror_mode": {
    "name": "ipython",
    "version": 3
   },
   "file_extension": ".py",
   "mimetype": "text/x-python",
   "name": "python",
   "nbconvert_exporter": "python",
   "pygments_lexer": "ipython3",
   "version": "3.6.8"
  }
 },
 "nbformat": 4,
 "nbformat_minor": 2
}
