{
 "cells": [
  {
   "cell_type": "code",
   "execution_count": null,
   "metadata": {},
   "outputs": [],
   "source": [
    "import time\n",
    "from lib.ev3 import EV3\n",
    "\n",
    "\n",
    "# センサーの通信ポートの定義.\n",
    "touch_port = EV3.PORT_2\n",
    "\n",
    "# センサーの初期設定.\n",
    "ev3 = EV3()\n",
    "ev3.sensor_config(touch_port, EV3.TOUCH_SENSOR)\n",
    "\n",
    "# このループの中でタッチセンサーのON/OFFを検知する.\n",
    "for _ in range(30):\n",
    "    if ev3.touch_sensor_is_pressed(touch_port):\n",
    "        print(\"Touch sensor is pressed.\")\n",
    "    else:\n",
    "        print(\"Touch sensor is released.\")\n",
    "    time.sleep(0.5)\n",
    "    \n",
    "# 終了処理.\n",
    "ev3.close()"
   ]
  }
 ],
 "metadata": {
  "kernelspec": {
   "display_name": "Python 3",
   "language": "python",
   "name": "python3"
  },
  "language_info": {
   "codemirror_mode": {
    "name": "ipython",
    "version": 3
   },
   "file_extension": ".py",
   "mimetype": "text/x-python",
   "name": "python",
   "nbconvert_exporter": "python",
   "pygments_lexer": "ipython3",
   "version": "3.6.8"
  }
 },
 "nbformat": 4,
 "nbformat_minor": 2
}
