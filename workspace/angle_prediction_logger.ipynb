{
 "cells": [
  {
   "cell_type": "code",
   "execution_count": null,
   "metadata": {},
   "outputs": [],
   "source": [
    "import time\n",
    "from IPython.display import Image, display\n",
    "from lib.vstream import VideoStream\n",
    "from lib.logger import Logger\n",
    "from lib.ev3 import EV3\n",
    "\n",
    "\n",
    "# Define the connection ports of the sensors and motors.\n",
    "touch_port = EV3.PORT_2\n",
    "\n",
    "ev3 = EV3()\n",
    "ev3.sensor_config(touch_port, EV3.TOUCH_SENSOR)\n",
    "lg = Logger(top_dir='angle_data')\n",
    "vs = VideoStream((20, 15), 10, colormode='binary').start()\n",
    "# Counter for each label\n",
    "enter = up = left = down = right = 0\n",
    "print('Ready')\n",
    "while True:\n",
    "    ev3.lcd_draw_string('enter:  0, {:02}'.format(enter), 0)\n",
    "    ev3.lcd_draw_string('up   : 15, {:02}'.format(up),    1)\n",
    "    ev3.lcd_draw_string('left : 30, {:02}'.format(left),  2)\n",
    "    ev3.lcd_draw_string('down :-15, {:02}'.format(down),  3)\n",
    "    ev3.lcd_draw_string('right:-30, {:02}'.format(right), 4)\n",
    "    if ev3.touch_sensor_is_pressed(touch_port):\n",
    "        break\n",
    "    if ev3.button_is_pressed(EV3.ENTER_BUTTON):\n",
    "        label = 0\n",
    "        enter += 1\n",
    "    elif ev3.button_is_pressed(EV3.UP_BUTTON):\n",
    "        label = 15\n",
    "        up += 1\n",
    "    elif ev3.button_is_pressed(EV3.LEFT_BUTTON):\n",
    "        label = 30\n",
    "        left += 1\n",
    "    elif ev3.button_is_pressed(EV3.DOWN_BUTTON):\n",
    "        label = -15\n",
    "        down += 1\n",
    "    elif ev3.button_is_pressed(EV3.RIGHT_BUTTON):\n",
    "        label = -30\n",
    "        right += 1\n",
    "    else:\n",
    "        continue\n",
    "    image = vs.read()\n",
    "    lg.write(image, label)\n",
    "    image.save('out.png')\n",
    "    display(Image('out.png'))\n",
    "print('Finish')\n",
    "ev3.close()\n",
    "vs.stop()\n",
    "lg.close()"
   ]
  },
  {
   "cell_type": "code",
   "execution_count": null,
   "metadata": {},
   "outputs": [],
   "source": []
  }
 ],
 "metadata": {
  "kernelspec": {
   "display_name": "Python 3",
   "language": "python",
   "name": "python3"
  },
  "language_info": {
   "codemirror_mode": {
    "name": "ipython",
    "version": 3
   },
   "file_extension": ".py",
   "mimetype": "text/x-python",
   "name": "python",
   "nbconvert_exporter": "python",
   "pygments_lexer": "ipython3",
   "version": "3.6.8"
  }
 },
 "nbformat": 4,
 "nbformat_minor": 2
}
