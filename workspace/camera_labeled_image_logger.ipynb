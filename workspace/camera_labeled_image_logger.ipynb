{
 "cells": [
  {
   "cell_type": "code",
   "execution_count": null,
   "metadata": {},
   "outputs": [],
   "source": [
    "from IPython.display import Image, display\n",
    "from lib.vstream import VideoStream\n",
    "from lib.logger import Logger\n",
    "from lib.ev3 import EV3\n",
    "\n",
    "\n",
    "# センサーの通信ポートの定義.\n",
    "touch_port = EV3.PORT_2\n",
    "\n",
    "# センサーの設定.\n",
    "ev3 = EV3()\n",
    "ev3.sensor_config(touch_port, EV3.TOUCH_SENSOR)\n",
    "\n",
    "# ロガーのトップディレクトリを'camera_test'に指定.\n",
    "lg = Logger(top_dir='camera_test')\n",
    "\n",
    "# カメラを[解像度:(64, 48), FPS:10, 色:二値]で設定.\n",
    "vs = VideoStream((64, 48), 10, colormode='binary').start()\n",
    "\n",
    "print('Start.')\n",
    "while True:\n",
    "    if ev3.touch_sensor_is_pressed(touch_port):\n",
    "        break\n",
    "    if ev3.button_is_pressed(EV3.ENTER_BUTTON):\n",
    "        label = 0\n",
    "    elif ev3.button_is_pressed(EV3.UP_BUTTON):\n",
    "        label = 1\n",
    "    elif ev3.button_is_pressed(EV3.LEFT_BUTTON):\n",
    "        label = 2\n",
    "    elif ev3.button_is_pressed(EV3.DOWN_BUTTON):\n",
    "        label = 3\n",
    "    elif ev3.button_is_pressed(EV3.RIGHT_BUTTON):\n",
    "        label = 4\n",
    "    else:\n",
    "        label = -1\n",
    "    if label > 0:\n",
    "        image = vs.read()\n",
    "        lg.write(image, label)\n",
    "        image.save('test.png')\n",
    "        display(Image('test.png'))\n",
    "print('Stop.')\n",
    "\n",
    "# 終了処理.\n",
    "ev3.close()\n",
    "vs.stop()\n",
    "lg.close()"
   ]
  }
 ],
 "metadata": {
  "kernelspec": {
   "display_name": "Python 3",
   "language": "python",
   "name": "python3"
  },
  "language_info": {
   "codemirror_mode": {
    "name": "ipython",
    "version": 3
   },
   "file_extension": ".py",
   "mimetype": "text/x-python",
   "name": "python",
   "nbconvert_exporter": "python",
   "pygments_lexer": "ipython3",
   "version": "3.6.8"
  }
 },
 "nbformat": 4,
 "nbformat_minor": 2
}
